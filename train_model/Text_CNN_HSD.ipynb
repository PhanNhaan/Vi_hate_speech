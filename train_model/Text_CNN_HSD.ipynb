{
 "cells": [
  {
   "cell_type": "markdown",
   "metadata": {},
   "source": [
    "Import libraries"
   ]
  },
  {
   "cell_type": "code",
   "execution_count": 1,
   "metadata": {},
   "outputs": [],
   "source": [
    "import pandas as pd\n",
    "import numpy as np\n",
    "import re\n",
    "from pyvi.ViTokenizer import ViTokenizer\n",
    "import matplotlib.pyplot as plt\n",
    "from sklearn.metrics import accuracy_score, precision_score, recall_score, f1_score\n",
    "from tensorflow.keras.callbacks import EarlyStopping\n",
    "import seaborn as sns\n",
    "from sklearn.metrics import classification_report, confusion_matrix\n",
    "from tensorflow.keras.preprocessing.text import Tokenizer\n",
    "from tensorflow.keras.optimizers import Adamax\n",
    "from tensorflow.keras.metrics import Precision, Recall\n",
    "from tensorflow.keras.layers import Dense, ReLU\n",
    "from tensorflow.keras.layers import Embedding, BatchNormalization, Concatenate\n",
    "from tensorflow.keras.layers import Conv1D, GlobalMaxPooling1D, Dropout\n",
    "from tensorflow.keras.models import Sequential, Model\n",
    "from sklearn.preprocessing import LabelEncoder\n",
    "from tensorflow.keras.preprocessing.sequence import pad_sequences\n",
    "from keras.utils import to_categorical"
   ]
  },
  {
   "cell_type": "markdown",
   "metadata": {},
   "source": [
    "Load data"
   ]
  },
  {
   "cell_type": "code",
   "execution_count": 2,
   "metadata": {},
   "outputs": [
    {
     "name": "stdout",
     "output_type": "stream",
     "text": [
      "24046\n",
      "2672\n",
      "6680\n"
     ]
    }
   ],
   "source": [
    "TRAIN_DATA = '../data/ViHSD/train.csv'\n",
    "DEV_DATA = '../data//ViHSD/dev.csv'\n",
    "TEST_DATA = '../data/ViHSD/test.csv'\n",
    "\n",
    "# read data\n",
    "train_data = pd.read_csv(TRAIN_DATA)\n",
    "dev_data = pd.read_csv(DEV_DATA)\n",
    "test_data = pd.read_csv(TEST_DATA)\n",
    "\n",
    "train_data = train_data.dropna(subset=['free_text'])\n",
    "dev_data = dev_data.dropna(subset=['free_text'])\n",
    "test_data = test_data.dropna(subset=['free_text'])\n",
    "\n",
    "\n",
    "print(len(train_data))\n",
    "print(len(dev_data))\n",
    "print(len(test_data))"
   ]
  },
  {
   "cell_type": "markdown",
   "metadata": {},
   "source": [
    "Data preprocessing"
   ]
  },
  {
   "cell_type": "code",
   "execution_count": 3,
   "metadata": {},
   "outputs": [],
   "source": [
    "STOPWORDS = '../data/vietnamese-stopwords-dash.txt'\n",
    "stopwords = []\n",
    "\n",
    "with open(STOPWORDS, \"r\") as ins:\n",
    "    for line in ins:\n",
    "        dd = line.strip('\\n')\n",
    "        stopwords.append(dd)\n",
    "    stopwords = set(stopwords)\n",
    "\n",
    "def filter_stop_words(train_sentences, stop_words):\n",
    "    new_sent = [word for word in train_sentences.split() if word not in stop_words]\n",
    "    train_sentences = ' '.join(new_sent)\n",
    "        \n",
    "    return train_sentences\n",
    "\n",
    "def deEmojify(text):\n",
    "    # remove emoji\n",
    "    emoji_pattern = re.compile(\n",
    "        pattern = \"[\"\n",
    "            u\"\\U0001F600-\\U0001F64F\"  # emoticons\n",
    "            u\"\\U0001F300-\\U0001F5FF\"  # symbols & pictographs\n",
    "            u\"\\U0001F680-\\U0001F6FF\"  # transport & map symbols\n",
    "            u\"\\U0001F1E0-\\U0001F1FF\"  # flags (iOS)\n",
    "            u\"\\U00002702-\\U000027B0\"  # Dingbats\n",
    "            u\"\\U000024C2-\\U0001F251\"  # Enclosed characters\n",
    "            u\"\\U0001F900-\\U0001F9FF\"  # Supplemental Symbols and Pictographs\n",
    "            u\"\\U0001FA70-\\U0001FAFF\"  # Symbols and Pictographs Extended-A\n",
    "            u\"\\U0000200D\"              # Zero Width Joiner\n",
    "            u\"\\U0000200C\"              # Zero Width Non-Joiner\n",
    "            \"]+\", \n",
    "        flags = re.UNICODE\n",
    "    )\n",
    "\n",
    "    text = emoji_pattern.sub(r'', text)  \n",
    "    return text\n",
    "\n",
    "def deSpecialCharacters(text):\n",
    "    text =  re.sub('\\W+',' ', text )\n",
    "    return text\n",
    "\n",
    "def preprocess(text, tokenized = True, lowercased = True):\n",
    "    text = deEmojify(text)\n",
    "    text = deSpecialCharacters(text)\n",
    "    text = re.sub(r'\\s+', ' ', text).strip() \n",
    "    text = text.lower() if lowercased else text\n",
    "    # text = replace_teencode(text)\n",
    "    text = ViTokenizer.tokenize(text) if tokenized else text\n",
    "    text = filter_stop_words(text, stopwords)# text = filter_stop_words(text, stopwords)\n",
    "    return text"
   ]
  },
  {
   "cell_type": "code",
   "execution_count": 4,
   "metadata": {},
   "outputs": [],
   "source": [
    "train_data['free_text'] = train_data['free_text'].apply(preprocess)\n",
    "test_data['free_text'] = train_data['free_text'].apply(preprocess)\n",
    "dev_data['free_text'] = train_data['free_text'].apply(preprocess)\n",
    "train_data = train_data[train_data['free_text'] != '']\n",
    "test_data = test_data[test_data['free_text'] != '']\n",
    "dev_data = dev_data[dev_data['free_text'] != '']"
   ]
  },
  {
   "cell_type": "code",
   "execution_count": 5,
   "metadata": {},
   "outputs": [],
   "source": [
    "tr_text = train_data['free_text']\n",
    "tr_label = train_data['label_id']\n",
    "\n",
    "val_text = dev_data['free_text']\n",
    "val_label = dev_data['label_id']\n",
    "\n",
    "ts_text = test_data['free_text']\n",
    "ts_label = test_data['label_id']"
   ]
  },
  {
   "cell_type": "markdown",
   "metadata": {},
   "source": [
    "Feature"
   ]
  },
  {
   "cell_type": "code",
   "execution_count": 6,
   "metadata": {},
   "outputs": [],
   "source": [
    "vocabulary_size = 10000\n",
    "sequence_length = 100\n",
    "\n",
    "tokenizer = Tokenizer(num_words=vocabulary_size)\n",
    "tokenizer.fit_on_texts(tr_text) \n",
    "                            \n",
    "sequences = tokenizer.texts_to_sequences(tr_text)\n",
    "\n",
    "tr_x = pad_sequences(sequences, maxlen=sequence_length) \n",
    "tr_y = to_categorical(tr_label, num_classes=2)\n",
    "\n",
    "sequences = tokenizer.texts_to_sequences(val_text)\n",
    "val_x = pad_sequences(sequences, maxlen=sequence_length)\n",
    "val_y = to_categorical(val_label, num_classes=2)\n",
    "\n",
    "sequences = tokenizer.texts_to_sequences(ts_text)\n",
    "ts_x = pad_sequences(sequences, maxlen=sequence_length)\n",
    "ts_y = to_categorical(ts_label, num_classes=2)"
   ]
  },
  {
   "cell_type": "markdown",
   "metadata": {},
   "source": [
    "note"
   ]
  },
  {
   "cell_type": "markdown",
   "metadata": {},
   "source": [
    "Run model"
   ]
  },
  {
   "cell_type": "code",
   "execution_count": 7,
   "metadata": {},
   "outputs": [],
   "source": [
    "max_words = 10000\n",
    "max_len = 100\n",
    "embedding_dim = 32"
   ]
  },
  {
   "cell_type": "code",
   "execution_count": 8,
   "metadata": {},
   "outputs": [],
   "source": [
    "# Branch 1\n",
    "branch1 = Sequential()\n",
    "branch1.add(Embedding(max_words, embedding_dim, input_length=max_len))\n",
    "branch1.add(Conv1D(64, 3, padding='same', activation='relu'))\n",
    "branch1.add(BatchNormalization())\n",
    "branch1.add(ReLU())\n",
    "branch1.add(Dropout(0.3))\n",
    "branch1.add(GlobalMaxPooling1D())\n",
    "\n",
    "# Branch 2\n",
    "branch2 = Sequential()\n",
    "branch2.add(Embedding(max_words, embedding_dim, input_length=max_len))\n",
    "branch2.add(Conv1D(64, 3, padding='same', activation='relu'))\n",
    "branch2.add(BatchNormalization())\n",
    "branch2.add(ReLU())\n",
    "branch2.add(Dropout(0.3))\n",
    "branch2.add(GlobalMaxPooling1D())\n",
    "\n",
    "concatenated = Concatenate()([branch1.output, branch2.output])\n",
    "\n",
    "hid_layer = Dense(128, activation='relu')(concatenated)\n",
    "dropout = Dropout(0.2)(hid_layer)\n",
    "output_layer = Dense(2, activation='softmax')(dropout)\n",
    "\n",
    "model = Model(inputs=[branch1.input, branch2.input], outputs=output_layer)"
   ]
  },
  {
   "cell_type": "code",
   "execution_count": 9,
   "metadata": {},
   "outputs": [
    {
     "name": "stdout",
     "output_type": "stream",
     "text": [
      "Model: \"model\"\n",
      "__________________________________________________________________________________________________\n",
      " Layer (type)                Output Shape                 Param #   Connected to                  \n",
      "==================================================================================================\n",
      " embedding_input (InputLaye  [(None, 100)]                0         []                            \n",
      " r)                                                                                               \n",
      "                                                                                                  \n",
      " embedding_1_input (InputLa  [(None, 100)]                0         []                            \n",
      " yer)                                                                                             \n",
      "                                                                                                  \n",
      " embedding (Embedding)       (None, 100, 32)              320000    ['embedding_input[0][0]']     \n",
      "                                                                                                  \n",
      " embedding_1 (Embedding)     (None, 100, 32)              320000    ['embedding_1_input[0][0]']   \n",
      "                                                                                                  \n",
      " conv1d (Conv1D)             (None, 100, 64)              6208      ['embedding[0][0]']           \n",
      "                                                                                                  \n",
      " conv1d_1 (Conv1D)           (None, 100, 64)              6208      ['embedding_1[0][0]']         \n",
      "                                                                                                  \n",
      " batch_normalization (Batch  (None, 100, 64)              256       ['conv1d[0][0]']              \n",
      " Normalization)                                                                                   \n",
      "                                                                                                  \n",
      " batch_normalization_1 (Bat  (None, 100, 64)              256       ['conv1d_1[0][0]']            \n",
      " chNormalization)                                                                                 \n",
      "                                                                                                  \n",
      " re_lu (ReLU)                (None, 100, 64)              0         ['batch_normalization[0][0]'] \n",
      "                                                                                                  \n",
      " re_lu_1 (ReLU)              (None, 100, 64)              0         ['batch_normalization_1[0][0]'\n",
      "                                                                    ]                             \n",
      "                                                                                                  \n",
      " dropout (Dropout)           (None, 100, 64)              0         ['re_lu[0][0]']               \n",
      "                                                                                                  \n",
      " dropout_1 (Dropout)         (None, 100, 64)              0         ['re_lu_1[0][0]']             \n",
      "                                                                                                  \n",
      " global_max_pooling1d (Glob  (None, 64)                   0         ['dropout[0][0]']             \n",
      " alMaxPooling1D)                                                                                  \n",
      "                                                                                                  \n",
      " global_max_pooling1d_1 (Gl  (None, 64)                   0         ['dropout_1[0][0]']           \n",
      " obalMaxPooling1D)                                                                                \n",
      "                                                                                                  \n",
      " concatenate (Concatenate)   (None, 128)                  0         ['global_max_pooling1d[0][0]',\n",
      "                                                                     'global_max_pooling1d_1[0][0]\n",
      "                                                                    ']                            \n",
      "                                                                                                  \n",
      " dense (Dense)               (None, 128)                  16512     ['concatenate[0][0]']         \n",
      "                                                                                                  \n",
      " dropout_2 (Dropout)         (None, 128)                  0         ['dense[0][0]']               \n",
      "                                                                                                  \n",
      " dense_1 (Dense)             (None, 2)                    258       ['dropout_2[0][0]']           \n",
      "                                                                                                  \n",
      "==================================================================================================\n",
      "Total params: 669698 (2.55 MB)\n",
      "Trainable params: 669442 (2.55 MB)\n",
      "Non-trainable params: 256 (1.00 KB)\n",
      "__________________________________________________________________________________________________\n"
     ]
    }
   ],
   "source": [
    "model.compile(optimizer='adamax',\n",
    "              loss='categorical_crossentropy',\n",
    "              metrics=['accuracy', Precision(), Recall()])\n",
    "\n",
    "model.summary()"
   ]
  },
  {
   "cell_type": "code",
   "execution_count": 10,
   "metadata": {},
   "outputs": [
    {
     "name": "stdout",
     "output_type": "stream",
     "text": [
      "Epoch 1/25\n",
      "93/93 [==============================] - 11s 105ms/step - loss: 0.8535 - accuracy: 0.7398 - precision: 0.7398 - recall: 0.7398 - val_loss: 0.6595 - val_accuracy: 0.8138 - val_precision: 0.8138 - val_recall: 0.8138\n",
      "Epoch 2/25\n",
      "93/93 [==============================] - 9s 98ms/step - loss: 0.6470 - accuracy: 0.8298 - precision: 0.8298 - recall: 0.8298 - val_loss: 0.6504 - val_accuracy: 0.7483 - val_precision: 0.7483 - val_recall: 0.7483\n",
      "Epoch 3/25\n",
      "93/93 [==============================] - 9s 97ms/step - loss: 0.5246 - accuracy: 0.8609 - precision: 0.8609 - recall: 0.8609 - val_loss: 0.6317 - val_accuracy: 0.7184 - val_precision: 0.7184 - val_recall: 0.7184\n",
      "Epoch 4/25\n",
      "93/93 [==============================] - 9s 99ms/step - loss: 0.4422 - accuracy: 0.8886 - precision: 0.8886 - recall: 0.8886 - val_loss: 0.6330 - val_accuracy: 0.6820 - val_precision: 0.6820 - val_recall: 0.6820\n",
      "Epoch 5/25\n",
      "93/93 [==============================] - 9s 102ms/step - loss: 0.3883 - accuracy: 0.8985 - precision: 0.8985 - recall: 0.8985 - val_loss: 0.6093 - val_accuracy: 0.6950 - val_precision: 0.6950 - val_recall: 0.6950\n",
      "Epoch 6/25\n",
      "93/93 [==============================] - 9s 101ms/step - loss: 0.3325 - accuracy: 0.9183 - precision: 0.9183 - recall: 0.9183 - val_loss: 0.6836 - val_accuracy: 0.6709 - val_precision: 0.6709 - val_recall: 0.6709\n",
      "Epoch 7/25\n",
      "93/93 [==============================] - 9s 100ms/step - loss: 0.2992 - accuracy: 0.9258 - precision: 0.9258 - recall: 0.9258 - val_loss: 0.7650 - val_accuracy: 0.6793 - val_precision: 0.6793 - val_recall: 0.6793\n",
      "Epoch 8/25\n",
      "93/93 [==============================] - 9s 102ms/step - loss: 0.2706 - accuracy: 0.9318 - precision: 0.9318 - recall: 0.9318 - val_loss: 0.9514 - val_accuracy: 0.6628 - val_precision: 0.6628 - val_recall: 0.6628\n",
      "Epoch 9/25\n",
      "93/93 [==============================] - 10s 105ms/step - loss: 0.2454 - accuracy: 0.9381 - precision: 0.9381 - recall: 0.9381 - val_loss: 1.0342 - val_accuracy: 0.6759 - val_precision: 0.6759 - val_recall: 0.6759\n",
      "Epoch 10/25\n",
      "93/93 [==============================] - 9s 100ms/step - loss: 0.2202 - accuracy: 0.9466 - precision: 0.9466 - recall: 0.9466 - val_loss: 1.1377 - val_accuracy: 0.6774 - val_precision: 0.6774 - val_recall: 0.6774\n",
      "Epoch 11/25\n",
      "93/93 [==============================] - 9s 98ms/step - loss: 0.2008 - accuracy: 0.9507 - precision: 0.9507 - recall: 0.9507 - val_loss: 1.2088 - val_accuracy: 0.6870 - val_precision: 0.6870 - val_recall: 0.6870\n",
      "Epoch 12/25\n",
      "93/93 [==============================] - 10s 103ms/step - loss: 0.1829 - accuracy: 0.9546 - precision: 0.9546 - recall: 0.9546 - val_loss: 1.2777 - val_accuracy: 0.6889 - val_precision: 0.6889 - val_recall: 0.6889\n",
      "Epoch 13/25\n",
      "93/93 [==============================] - 9s 100ms/step - loss: 0.1675 - accuracy: 0.9587 - precision: 0.9587 - recall: 0.9587 - val_loss: 1.3391 - val_accuracy: 0.6920 - val_precision: 0.6920 - val_recall: 0.6920\n",
      "Epoch 14/25\n",
      "93/93 [==============================] - 10s 102ms/step - loss: 0.1560 - accuracy: 0.9624 - precision: 0.9624 - recall: 0.9624 - val_loss: 1.4171 - val_accuracy: 0.6904 - val_precision: 0.6904 - val_recall: 0.6904\n",
      "Epoch 15/25\n",
      "93/93 [==============================] - 10s 110ms/step - loss: 0.1394 - accuracy: 0.9670 - precision: 0.9670 - recall: 0.9670 - val_loss: 1.4911 - val_accuracy: 0.6923 - val_precision: 0.6923 - val_recall: 0.6923\n",
      "Epoch 16/25\n",
      "93/93 [==============================] - 9s 102ms/step - loss: 0.1339 - accuracy: 0.9676 - precision: 0.9676 - recall: 0.9676 - val_loss: 1.5531 - val_accuracy: 0.6927 - val_precision: 0.6927 - val_recall: 0.6927\n",
      "Epoch 17/25\n",
      "93/93 [==============================] - 10s 108ms/step - loss: 0.1240 - accuracy: 0.9704 - precision: 0.9704 - recall: 0.9704 - val_loss: 1.5900 - val_accuracy: 0.6946 - val_precision: 0.6946 - val_recall: 0.6946\n",
      "Epoch 18/25\n",
      "93/93 [==============================] - 10s 107ms/step - loss: 0.1192 - accuracy: 0.9725 - precision: 0.9725 - recall: 0.9725 - val_loss: 1.6228 - val_accuracy: 0.6943 - val_precision: 0.6943 - val_recall: 0.6943\n",
      "Epoch 19/25\n",
      "93/93 [==============================] - 10s 106ms/step - loss: 0.1108 - accuracy: 0.9728 - precision: 0.9728 - recall: 0.9728 - val_loss: 1.6787 - val_accuracy: 0.6969 - val_precision: 0.6969 - val_recall: 0.6969\n",
      "Epoch 20/25\n",
      "93/93 [==============================] - 10s 102ms/step - loss: 0.1011 - accuracy: 0.9759 - precision: 0.9759 - recall: 0.9759 - val_loss: 1.7596 - val_accuracy: 0.6946 - val_precision: 0.6946 - val_recall: 0.6946\n",
      "Epoch 21/25\n",
      "93/93 [==============================] - 9s 102ms/step - loss: 0.0982 - accuracy: 0.9759 - precision: 0.9759 - recall: 0.9759 - val_loss: 1.8072 - val_accuracy: 0.6954 - val_precision: 0.6954 - val_recall: 0.6954\n",
      "Epoch 22/25\n",
      "93/93 [==============================] - 9s 102ms/step - loss: 0.0922 - accuracy: 0.9773 - precision: 0.9773 - recall: 0.9773 - val_loss: 1.8412 - val_accuracy: 0.6966 - val_precision: 0.6966 - val_recall: 0.6966\n",
      "Epoch 23/25\n",
      "93/93 [==============================] - 9s 102ms/step - loss: 0.0888 - accuracy: 0.9784 - precision: 0.9784 - recall: 0.9784 - val_loss: 1.9065 - val_accuracy: 0.6904 - val_precision: 0.6904 - val_recall: 0.6904\n",
      "Epoch 24/25\n",
      "93/93 [==============================] - 10s 105ms/step - loss: 0.0862 - accuracy: 0.9793 - precision: 0.9793 - recall: 0.9793 - val_loss: 1.9267 - val_accuracy: 0.6946 - val_precision: 0.6946 - val_recall: 0.6946\n",
      "Epoch 25/25\n",
      "93/93 [==============================] - 10s 108ms/step - loss: 0.0817 - accuracy: 0.9809 - precision: 0.9809 - recall: 0.9809 - val_loss: 1.9917 - val_accuracy: 0.6950 - val_precision: 0.6950 - val_recall: 0.6950\n"
     ]
    }
   ],
   "source": [
    "# early_stopping = EarlyStopping(monitor='val_loss', mode='min', verbose=1, patience=5, restore_best_weights=True,min_delta=0.001)\n",
    "class_weights = {0: 1.0, 1: 3.0}\n",
    "\n",
    "batch_size = 256\n",
    "epochs = 25 # 40, 25\n",
    "history = model.fit([tr_x, tr_x], tr_y, epochs=epochs, batch_size=batch_size,\n",
    "                    validation_data=([val_x, val_x], val_y),\n",
    "                    # callbacks=[early_stopping],\n",
    "                    class_weight=class_weights\n",
    "                    )"
   ]
  },
  {
   "cell_type": "markdown",
   "metadata": {},
   "source": [
    "Save model"
   ]
  },
  {
   "cell_type": "code",
   "execution_count": 13,
   "metadata": {},
   "outputs": [
    {
     "name": "stderr",
     "output_type": "stream",
     "text": [
      "c:\\Users\\ASUS\\anaconda3\\Lib\\site-packages\\keras\\src\\engine\\training.py:3103: UserWarning: You are saving your model as an HDF5 file via `model.save()`. This file format is considered legacy. We recommend using instead the native Keras format, e.g. `model.save('my_model.keras')`.\n",
      "  saving_api.save_model(\n"
     ]
    }
   ],
   "source": [
    "import pickle\n",
    "with open('../models/tokenizer_cnn_hsd.pkl', 'wb') as tokenizer_file:\n",
    "    pickle.dump(tokenizer, tokenizer_file)\n",
    "\n",
    "model.save('../models/model_cnn_hsd.h5')"
   ]
  },
  {
   "cell_type": "markdown",
   "metadata": {},
   "source": [
    "Evaluation and Visullize results"
   ]
  },
  {
   "cell_type": "code",
   "execution_count": 11,
   "metadata": {},
   "outputs": [],
   "source": [
    "def evaluation(y_pred, y_test):\n",
    "    # Tính toán các chỉ số đánh giá\n",
    "    accuracy  = accuracy_score(y_test, y_pred)\n",
    "    precision = precision_score(y_test, y_pred, average='macro')\n",
    "    recall = recall_score(y_test, y_pred, average='macro')\n",
    "    f1_micro = f1_score(y_test, y_pred, average='micro')\n",
    "    f1_macro = f1_score(y_test, y_pred, average='macro')\n",
    "\n",
    "    print(f\"Accuracy: {accuracy}\")\n",
    "    print(f\"Precision: {precision}\")\n",
    "    print(f\"Recall: {recall}\")\n",
    "    print(f\"F1-micro: {f1_micro}\")\n",
    "    print(f\"F1-macro: {f1_macro}\")"
   ]
  },
  {
   "cell_type": "code",
   "execution_count": 12,
   "metadata": {},
   "outputs": [
    {
     "name": "stdout",
     "output_type": "stream",
     "text": [
      "[[4409 1023]\n",
      " [ 885  225]]\n",
      "Accuracy: 0.7083460715377561\n",
      "Precision: 0.5065590399872134\n",
      "Recall: 0.5071871392747681\n",
      "F1-micro: 0.7083460715377561\n",
      "F1-macro: 0.5064770914080504\n",
      "None\n"
     ]
    },
    {
     "data": {
      "image/png": "[encoded data removed]",
      "text/plain": [
       "<Figure size 1000x700 with 2 Axes>"
      ]
     },
     "metadata": {},
     "output_type": "display_data"
    }
   ],
   "source": [
    "predictions = model.predict([ts_x, ts_x], batch_size=batch_size, verbose=0)\n",
    "y_pred = predictions.argmax(axis=-1)\n",
    "y_true = ts_label\n",
    "\n",
    "# Tính toán confusion matrix\n",
    "cf_matrix = confusion_matrix(y_true, y_pred)\n",
    "print(cf_matrix)\n",
    "\n",
    "print(evaluation(y_pred, y_true))\n",
    "\n",
    "# Vẽ confusion matrix\n",
    "df_cm = pd.DataFrame(cf_matrix, index=[\"class 0\", \"class 1\"],\n",
    "                     columns=[\"class 0\", \"class 1\"])\n",
    "plt.figure(figsize=(10, 7))\n",
    "sns.heatmap(df_cm, annot=True, cmap=\"Greys\", fmt='g', cbar=True, annot_kws={\"size\": 20})\n",
    "plt.show()"
   ]
  }
 ],
 "metadata": {
  "kernelspec": {
   "display_name": "base",
   "language": "python",
   "name": "python3"
  },
  "language_info": {
   "codemirror_mode": {
    "name": "ipython",
    "version": 3
   },
   "file_extension": ".py",
   "mimetype": "text/x-python",
   "name": "python",
   "nbconvert_exporter": "python",
   "pygments_lexer": "ipython3",
   "version": "3.11.4"
  }
 },
 "nbformat": 4,
 "nbformat_minor": 2
}
