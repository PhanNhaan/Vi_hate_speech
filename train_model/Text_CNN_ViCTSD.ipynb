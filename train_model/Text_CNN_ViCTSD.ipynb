{
 "cells": [
  {
   "cell_type": "markdown",
   "metadata": {},
   "source": [
    "Import libraries"
   ]
  },
  {
   "cell_type": "code",
   "execution_count": 150,
   "metadata": {},
   "outputs": [],
   "source": [
    "import pandas as pd\n",
    "import numpy as np\n",
    "import re\n",
    "from pyvi.ViTokenizer import ViTokenizer\n",
    "import matplotlib.pyplot as plt\n",
    "from sklearn.metrics import accuracy_score, precision_score, recall_score, f1_score\n",
    "from tensorflow.keras.callbacks import EarlyStopping\n",
    "import seaborn as sns\n",
    "from sklearn.metrics import classification_report, confusion_matrix\n",
    "from tensorflow.keras.preprocessing.text import Tokenizer\n",
    "from tensorflow.keras.optimizers import Adamax\n",
    "from tensorflow.keras.metrics import Precision, Recall\n",
    "from tensorflow.keras.layers import Dense, ReLU\n",
    "from tensorflow.keras.layers import Embedding, BatchNormalization, Concatenate\n",
    "from tensorflow.keras.layers import Conv1D, GlobalMaxPooling1D, Dropout\n",
    "from tensorflow.keras.models import Sequential, Model\n",
    "from sklearn.preprocessing import LabelEncoder\n",
    "from tensorflow.keras.preprocessing.sequence import pad_sequences\n",
    "from keras.utils import to_categorical\n",
    "from keras.optimizers.legacy import Adam"
   ]
  },
  {
   "cell_type": "markdown",
   "metadata": {},
   "source": [
    "Load data"
   ]
  },
  {
   "cell_type": "code",
   "execution_count": 151,
   "metadata": {},
   "outputs": [
    {
     "name": "stdout",
     "output_type": "stream",
     "text": [
      "7000\n",
      "2000\n",
      "1000\n"
     ]
    }
   ],
   "source": [
    "import pandas as pd \n",
    "import numpy as np \n",
    "\n",
    "TRAIN_DATA = '../data/ViCTSD/ViCTSD_train.csv'\n",
    "DEV_DATA = '../data//ViCTSD/ViCTSD_valid.csv'\n",
    "TEST_DATA = '../data/ViCTSD/ViCTSD_test.csv'\n",
    "\n",
    "# read data\n",
    "train_data = pd.read_csv(TRAIN_DATA)\n",
    "dev_data = pd.read_csv(DEV_DATA)\n",
    "test_data = pd.read_csv(TEST_DATA)\n",
    "\n",
    "train_data = train_data.dropna(subset=['Comment'])\n",
    "dev_data = dev_data.dropna(subset=['Comment'])\n",
    "test_data = test_data.dropna(subset=['Comment'])\n",
    "\n",
    "\n",
    "print(len(train_data))\n",
    "print(len(dev_data))\n",
    "print(len(test_data))"
   ]
  },
  {
   "cell_type": "markdown",
   "metadata": {},
   "source": [
    "Data preprocessing"
   ]
  },
  {
   "cell_type": "code",
   "execution_count": 152,
   "metadata": {},
   "outputs": [],
   "source": [
    "# def load_teencode_dict(file_path):\n",
    "#     teencode_dict = {}\n",
    "#     with open(file_path, 'r', encoding='utf-8') as file:\n",
    "#         for line in file:\n",
    "#             if line.strip():  # Kiểm tra xem dòng không phải là dòng trống\n",
    "#                 teencode, full_word = line.strip().split('\\t')\n",
    "#                 teencode_dict[teencode] = full_word\n",
    "#     return teencode_dict\n",
    "# # Đường dẫn tới file teencode.txt\n",
    "# teencode_file = '../data/teencode.txt'\n",
    "\n",
    "# # Tải từ điển teen code\n",
    "# teencode_dict = load_teencode_dict(teencode_file)\n",
    "\n",
    "# def replace_teencode(text, teencode_dict = teencode_dict):\n",
    "#     words = text.split()\n",
    "#     new_words = [teencode_dict.get(word, word) for word in words]\n",
    "#     return ' '.join(new_words)\n",
    "\n",
    "# # Đoạn text cần kiểm tra và thay thế\n",
    "# text = \"mih qtam cta r svtn\"\n",
    "# new_text = replace_teencode(text)\n",
    "\n",
    "# print(new_text)"
   ]
  },
  {
   "cell_type": "code",
   "execution_count": 153,
   "metadata": {},
   "outputs": [],
   "source": [
    "STOPWORDS = '../data/vietnamese-stopwords-dash.txt'\n",
    "stopwords = []\n",
    "\n",
    "with open(STOPWORDS, \"r\") as ins:\n",
    "    for line in ins:\n",
    "        dd = line.strip('\\n')\n",
    "        stopwords.append(dd)\n",
    "    stopwords = set(stopwords)\n",
    "\n",
    "def filter_stop_words(train_sentences, stop_words):\n",
    "    new_sent = [word for word in train_sentences.split() if word not in stop_words]\n",
    "    train_sentences = ' '.join(new_sent)\n",
    "        \n",
    "    return train_sentences\n",
    "\n",
    "def deEmojify(text):\n",
    "    # remove emoji\n",
    "    emoji_pattern = re.compile(\n",
    "        pattern = \"[\"\n",
    "            u\"\\U0001F600-\\U0001F64F\"  # emoticons\n",
    "            u\"\\U0001F300-\\U0001F5FF\"  # symbols & pictographs\n",
    "            u\"\\U0001F680-\\U0001F6FF\"  # transport & map symbols\n",
    "            u\"\\U0001F1E0-\\U0001F1FF\"  # flags (iOS)\n",
    "            u\"\\U00002702-\\U000027B0\"  # Dingbats\n",
    "            u\"\\U000024C2-\\U0001F251\"  # Enclosed characters\n",
    "            u\"\\U0001F900-\\U0001F9FF\"  # Supplemental Symbols and Pictographs\n",
    "            u\"\\U0001FA70-\\U0001FAFF\"  # Symbols and Pictographs Extended-A\n",
    "            u\"\\U0000200D\"              # Zero Width Joiner\n",
    "            u\"\\U0000200C\"              # Zero Width Non-Joiner\n",
    "            \"]+\", \n",
    "        flags = re.UNICODE\n",
    "    )\n",
    "\n",
    "    text = emoji_pattern.sub(r'', text)  \n",
    "    return text\n",
    "\n",
    "def deSpecialCharacters(text):\n",
    "    text =  re.sub('\\W+',' ', text )\n",
    "    return text\n",
    "\n",
    "def preprocess(text, tokenized = True, lowercased = True):\n",
    "    text = deEmojify(text)\n",
    "    text = deSpecialCharacters(text)\n",
    "    text = re.sub(r'\\s+', ' ', text).strip() \n",
    "    text = text.lower() if lowercased else text\n",
    "    # text = replace_teencode(text)\n",
    "    text = ViTokenizer.tokenize(text) if tokenized else text\n",
    "    text = filter_stop_words(text, stopwords)# text = filter_stop_words(text, stopwords)\n",
    "    return text"
   ]
  },
  {
   "cell_type": "code",
   "execution_count": 154,
   "metadata": {},
   "outputs": [],
   "source": [
    "train_data['Comment'] = train_data['Comment'].apply(preprocess)\n",
    "test_data['Comment'] = train_data['Comment'].apply(preprocess)\n",
    "dev_data['Comment'] = train_data['Comment'].apply(preprocess)\n",
    "train_data = train_data[train_data['Comment'] != '']\n",
    "test_data = test_data[test_data['Comment'] != '']\n",
    "dev_data = dev_data[dev_data['Comment'] != '']"
   ]
  },
  {
   "cell_type": "code",
   "execution_count": 155,
   "metadata": {},
   "outputs": [],
   "source": [
    "tr_text = train_data['Comment']\n",
    "tr_label = train_data['Toxicity']\n",
    "\n",
    "val_text = dev_data['Comment']\n",
    "val_label = dev_data['Toxicity']\n",
    "\n",
    "ts_text = test_data['Comment']\n",
    "ts_label = test_data['Toxicity']"
   ]
  },
  {
   "cell_type": "markdown",
   "metadata": {},
   "source": [
    "Feature"
   ]
  },
  {
   "cell_type": "code",
   "execution_count": 156,
   "metadata": {},
   "outputs": [],
   "source": [
    "vocabulary_size = 10000\n",
    "sequence_length = 100\n",
    "tokenizer = Tokenizer(num_words=vocabulary_size)\n",
    "tokenizer.fit_on_texts(tr_text) \n",
    "                            \n",
    "sequences = tokenizer.texts_to_sequences(tr_text)\n",
    "\n",
    "tr_x = pad_sequences(sequences, maxlen=sequence_length) \n",
    "tr_y = to_categorical(tr_label, num_classes=2)\n",
    "\n",
    "sequences = tokenizer.texts_to_sequences(val_text)\n",
    "val_x = pad_sequences(sequences, maxlen=sequence_length)\n",
    "val_y = to_categorical(val_label, num_classes=2)\n",
    "\n",
    "sequences = tokenizer.texts_to_sequences(ts_text)\n",
    "ts_x = pad_sequences(sequences, maxlen=sequence_length)\n",
    "ts_y = to_categorical(ts_label, num_classes=2)"
   ]
  },
  {
   "cell_type": "markdown",
   "metadata": {},
   "source": [
    "note"
   ]
  },
  {
   "cell_type": "markdown",
   "metadata": {},
   "source": [
    "Run model"
   ]
  },
  {
   "cell_type": "code",
   "execution_count": 157,
   "metadata": {},
   "outputs": [],
   "source": [
    "max_words = 10000\n",
    "max_len = 100\n",
    "embedding_dim = 32"
   ]
  },
  {
   "cell_type": "code",
   "execution_count": 158,
   "metadata": {},
   "outputs": [],
   "source": [
    "# Branch 1\n",
    "branch1 = Sequential()\n",
    "branch1.add(Embedding(max_words, embedding_dim, input_length=max_len))\n",
    "branch1.add(Conv1D(64, 3, padding='same', activation='relu'))\n",
    "branch1.add(BatchNormalization())\n",
    "branch1.add(ReLU())\n",
    "branch1.add(Dropout(0.3))\n",
    "branch1.add(GlobalMaxPooling1D())\n",
    "\n",
    "# Branch 2\n",
    "branch2 = Sequential()\n",
    "branch2.add(Embedding(max_words, embedding_dim, input_length=max_len))\n",
    "branch2.add(Conv1D(64, 3, padding='same', activation='relu'))\n",
    "branch2.add(BatchNormalization())\n",
    "branch2.add(ReLU())\n",
    "branch2.add(Dropout(0.3))\n",
    "branch2.add(GlobalMaxPooling1D())\n",
    "\n",
    "concatenated = Concatenate()([branch1.output, branch2.output])\n",
    "\n",
    "hid_layer = Dense(128, activation='relu')(concatenated)\n",
    "dropout = Dropout(0.2)(hid_layer)\n",
    "output_layer = Dense(2, activation='softmax')(dropout)\n",
    "\n",
    "model = Model(inputs=[branch1.input, branch2.input], outputs=output_layer)"
   ]
  },
  {
   "cell_type": "code",
   "execution_count": 159,
   "metadata": {},
   "outputs": [
    {
     "name": "stdout",
     "output_type": "stream",
     "text": [
      "Model: \"model_11\"\n",
      "__________________________________________________________________________________________________\n",
      " Layer (type)                Output Shape                 Param #   Connected to                  \n",
      "==================================================================================================\n",
      " embedding_22_input (InputL  [(None, 100)]                0         []                            \n",
      " ayer)                                                                                            \n",
      "                                                                                                  \n",
      " embedding_23_input (InputL  [(None, 100)]                0         []                            \n",
      " ayer)                                                                                            \n",
      "                                                                                                  \n",
      " embedding_22 (Embedding)    (None, 100, 32)              320000    ['embedding_22_input[0][0]']  \n",
      "                                                                                                  \n",
      " embedding_23 (Embedding)    (None, 100, 32)              320000    ['embedding_23_input[0][0]']  \n",
      "                                                                                                  \n",
      " conv1d_22 (Conv1D)          (None, 100, 64)              6208      ['embedding_22[0][0]']        \n",
      "                                                                                                  \n",
      " conv1d_23 (Conv1D)          (None, 100, 64)              6208      ['embedding_23[0][0]']        \n",
      "                                                                                                  \n",
      " batch_normalization_22 (Ba  (None, 100, 64)              256       ['conv1d_22[0][0]']           \n",
      " tchNormalization)                                                                                \n",
      "                                                                                                  \n",
      " batch_normalization_23 (Ba  (None, 100, 64)              256       ['conv1d_23[0][0]']           \n",
      " tchNormalization)                                                                                \n",
      "                                                                                                  \n",
      " re_lu_22 (ReLU)             (None, 100, 64)              0         ['batch_normalization_22[0][0]\n",
      "                                                                    ']                            \n",
      "                                                                                                  \n",
      " re_lu_23 (ReLU)             (None, 100, 64)              0         ['batch_normalization_23[0][0]\n",
      "                                                                    ']                            \n",
      "                                                                                                  \n",
      " dropout_33 (Dropout)        (None, 100, 64)              0         ['re_lu_22[0][0]']            \n",
      "                                                                                                  \n",
      " dropout_34 (Dropout)        (None, 100, 64)              0         ['re_lu_23[0][0]']            \n",
      "                                                                                                  \n",
      " global_max_pooling1d_22 (G  (None, 64)                   0         ['dropout_33[0][0]']          \n",
      " lobalMaxPooling1D)                                                                               \n",
      "                                                                                                  \n",
      " global_max_pooling1d_23 (G  (None, 64)                   0         ['dropout_34[0][0]']          \n",
      " lobalMaxPooling1D)                                                                               \n",
      "                                                                                                  \n",
      " concatenate_11 (Concatenat  (None, 128)                  0         ['global_max_pooling1d_22[0][0\n",
      " e)                                                                 ]',                           \n",
      "                                                                     'global_max_pooling1d_23[0][0\n",
      "                                                                    ]']                           \n",
      "                                                                                                  \n",
      " dense_22 (Dense)            (None, 128)                  16512     ['concatenate_11[0][0]']      \n",
      "                                                                                                  \n",
      " dropout_35 (Dropout)        (None, 128)                  0         ['dense_22[0][0]']            \n",
      "                                                                                                  \n",
      " dense_23 (Dense)            (None, 2)                    258       ['dropout_35[0][0]']          \n",
      "                                                                                                  \n",
      "==================================================================================================\n",
      "Total params: 669698 (2.55 MB)\n",
      "Trainable params: 669442 (2.55 MB)\n",
      "Non-trainable params: 256 (1.00 KB)\n",
      "__________________________________________________________________________________________________\n"
     ]
    },
    {
     "name": "stderr",
     "output_type": "stream",
     "text": [
      "c:\\Users\\ASUS\\anaconda3\\Lib\\site-packages\\keras\\src\\optimizers\\legacy\\adam.py:118: UserWarning: The `lr` argument is deprecated, use `learning_rate` instead.\n",
      "  super().__init__(name, **kwargs)\n"
     ]
    }
   ],
   "source": [
    "adam = Adam(lr=1e-4, beta_1=0.9, beta_2=0.999, epsilon=1e-08, decay=0.0)\n",
    "\n",
    "model.compile(optimizer=adam,\n",
    "              loss='categorical_crossentropy',\n",
    "              metrics=['accuracy', Precision(), Recall()])\n",
    "\n",
    "model.summary()"
   ]
  },
  {
   "cell_type": "code",
   "execution_count": 160,
   "metadata": {},
   "outputs": [
    {
     "name": "stdout",
     "output_type": "stream",
     "text": [
      "Epoch 1/25\n",
      "28/28 [==============================] - 4s 112ms/step - loss: 0.8542 - accuracy: 0.7741 - precision_11: 0.7741 - recall_11: 0.7741 - val_loss: 0.6730 - val_accuracy: 0.8842 - val_precision_11: 0.8842 - val_recall_11: 0.8842\n",
      "Epoch 2/25\n",
      "28/28 [==============================] - 3s 108ms/step - loss: 0.7692 - accuracy: 0.8180 - precision_11: 0.8180 - recall_11: 0.8180 - val_loss: 0.6692 - val_accuracy: 0.8842 - val_precision_11: 0.8842 - val_recall_11: 0.8842\n",
      "Epoch 3/25\n",
      "28/28 [==============================] - 3s 109ms/step - loss: 0.7153 - accuracy: 0.8448 - precision_11: 0.8448 - recall_11: 0.8448 - val_loss: 0.6659 - val_accuracy: 0.8842 - val_precision_11: 0.8842 - val_recall_11: 0.8842\n",
      "Epoch 4/25\n",
      "28/28 [==============================] - 3s 102ms/step - loss: 0.6738 - accuracy: 0.8683 - precision_11: 0.8683 - recall_11: 0.8683 - val_loss: 0.6624 - val_accuracy: 0.8837 - val_precision_11: 0.8837 - val_recall_11: 0.8837\n",
      "Epoch 5/25\n",
      "28/28 [==============================] - 3s 101ms/step - loss: 0.6495 - accuracy: 0.8656 - precision_11: 0.8656 - recall_11: 0.8656 - val_loss: 0.6571 - val_accuracy: 0.8827 - val_precision_11: 0.8827 - val_recall_11: 0.8827\n",
      "Epoch 6/25\n",
      "28/28 [==============================] - 3s 102ms/step - loss: 0.6062 - accuracy: 0.8756 - precision_11: 0.8756 - recall_11: 0.8756 - val_loss: 0.6505 - val_accuracy: 0.8802 - val_precision_11: 0.8802 - val_recall_11: 0.8802\n",
      "Epoch 7/25\n",
      "28/28 [==============================] - 3s 103ms/step - loss: 0.5715 - accuracy: 0.8879 - precision_11: 0.8879 - recall_11: 0.8879 - val_loss: 0.6510 - val_accuracy: 0.8677 - val_precision_11: 0.8677 - val_recall_11: 0.8677\n",
      "Epoch 8/25\n",
      "28/28 [==============================] - 3s 99ms/step - loss: 0.5368 - accuracy: 0.8937 - precision_11: 0.8937 - recall_11: 0.8937 - val_loss: 0.6432 - val_accuracy: 0.8586 - val_precision_11: 0.8586 - val_recall_11: 0.8586\n",
      "Epoch 9/25\n",
      "28/28 [==============================] - 3s 96ms/step - loss: 0.5015 - accuracy: 0.8991 - precision_11: 0.8991 - recall_11: 0.8991 - val_loss: 0.6336 - val_accuracy: 0.8481 - val_precision_11: 0.8481 - val_recall_11: 0.8481\n",
      "Epoch 10/25\n",
      "28/28 [==============================] - 3s 101ms/step - loss: 0.4727 - accuracy: 0.9061 - precision_11: 0.9061 - recall_11: 0.9061 - val_loss: 0.6179 - val_accuracy: 0.8416 - val_precision_11: 0.8416 - val_recall_11: 0.8416\n",
      "Epoch 11/25\n",
      "28/28 [==============================] - 3s 109ms/step - loss: 0.4406 - accuracy: 0.9084 - precision_11: 0.9084 - recall_11: 0.9084 - val_loss: 0.6148 - val_accuracy: 0.8221 - val_precision_11: 0.8221 - val_recall_11: 0.8221\n",
      "Epoch 12/25\n",
      "28/28 [==============================] - 3s 105ms/step - loss: 0.4046 - accuracy: 0.9190 - precision_11: 0.9190 - recall_11: 0.9190 - val_loss: 0.5972 - val_accuracy: 0.8155 - val_precision_11: 0.8155 - val_recall_11: 0.8155\n",
      "Epoch 13/25\n",
      "28/28 [==============================] - 3s 107ms/step - loss: 0.3653 - accuracy: 0.9281 - precision_11: 0.9281 - recall_11: 0.9281 - val_loss: 0.5829 - val_accuracy: 0.8080 - val_precision_11: 0.8080 - val_recall_11: 0.8080\n",
      "Epoch 14/25\n",
      "28/28 [==============================] - 3s 105ms/step - loss: 0.3361 - accuracy: 0.9329 - precision_11: 0.9329 - recall_11: 0.9329 - val_loss: 0.5606 - val_accuracy: 0.8045 - val_precision_11: 0.8045 - val_recall_11: 0.8045\n",
      "Epoch 15/25\n",
      "28/28 [==============================] - 3s 101ms/step - loss: 0.3106 - accuracy: 0.9367 - precision_11: 0.9367 - recall_11: 0.9367 - val_loss: 0.5375 - val_accuracy: 0.8025 - val_precision_11: 0.8025 - val_recall_11: 0.8025\n",
      "Epoch 16/25\n",
      "28/28 [==============================] - 3s 104ms/step - loss: 0.2785 - accuracy: 0.9447 - precision_11: 0.9447 - recall_11: 0.9447 - val_loss: 0.5316 - val_accuracy: 0.7980 - val_precision_11: 0.7980 - val_recall_11: 0.7980\n",
      "Epoch 17/25\n",
      "28/28 [==============================] - 3s 103ms/step - loss: 0.2557 - accuracy: 0.9517 - precision_11: 0.9517 - recall_11: 0.9517 - val_loss: 0.5039 - val_accuracy: 0.8020 - val_precision_11: 0.8020 - val_recall_11: 0.8020\n",
      "Epoch 18/25\n",
      "28/28 [==============================] - 3s 102ms/step - loss: 0.2347 - accuracy: 0.9527 - precision_11: 0.9527 - recall_11: 0.9527 - val_loss: 0.4991 - val_accuracy: 0.7975 - val_precision_11: 0.7975 - val_recall_11: 0.7975\n",
      "Epoch 19/25\n",
      "28/28 [==============================] - 3s 101ms/step - loss: 0.2168 - accuracy: 0.9573 - precision_11: 0.9573 - recall_11: 0.9573 - val_loss: 0.4803 - val_accuracy: 0.8015 - val_precision_11: 0.8015 - val_recall_11: 0.8015\n",
      "Epoch 20/25\n",
      "28/28 [==============================] - 3s 100ms/step - loss: 0.1961 - accuracy: 0.9604 - precision_11: 0.9604 - recall_11: 0.9604 - val_loss: 0.4803 - val_accuracy: 0.8020 - val_precision_11: 0.8020 - val_recall_11: 0.8020\n",
      "Epoch 21/25\n",
      "28/28 [==============================] - 3s 99ms/step - loss: 0.1848 - accuracy: 0.9666 - precision_11: 0.9666 - recall_11: 0.9666 - val_loss: 0.4946 - val_accuracy: 0.7995 - val_precision_11: 0.7995 - val_recall_11: 0.7995\n",
      "Epoch 22/25\n",
      "28/28 [==============================] - 3s 100ms/step - loss: 0.1601 - accuracy: 0.9698 - precision_11: 0.9698 - recall_11: 0.9698 - val_loss: 0.5010 - val_accuracy: 0.8010 - val_precision_11: 0.8010 - val_recall_11: 0.8010\n",
      "Epoch 23/25\n",
      "28/28 [==============================] - 3s 99ms/step - loss: 0.1553 - accuracy: 0.9693 - precision_11: 0.9693 - recall_11: 0.9693 - val_loss: 0.5354 - val_accuracy: 0.7985 - val_precision_11: 0.7985 - val_recall_11: 0.7985\n",
      "Epoch 24/25\n",
      "28/28 [==============================] - 3s 100ms/step - loss: 0.1424 - accuracy: 0.9719 - precision_11: 0.9719 - recall_11: 0.9719 - val_loss: 0.5599 - val_accuracy: 0.8015 - val_precision_11: 0.8015 - val_recall_11: 0.8015\n",
      "Epoch 25/25\n",
      "28/28 [==============================] - 3s 99ms/step - loss: 0.1292 - accuracy: 0.9741 - precision_11: 0.9741 - recall_11: 0.9741 - val_loss: 0.5931 - val_accuracy: 0.8015 - val_precision_11: 0.8015 - val_recall_11: 0.8015\n"
     ]
    }
   ],
   "source": [
    "# early_stopping = EarlyStopping(monitor='val_loss', mode='min', verbose=1, patience=5, restore_best_weights=True,min_delta=0.001)\n",
    "class_weights = {0: 1.0, 1: 3.0}\n",
    "batch_size = 256\n",
    "epochs = 25 # 40, 25\n",
    "history = model.fit([tr_x, tr_x], tr_y, epochs=epochs, batch_size=batch_size,\n",
    "                    validation_data=([val_x, val_x], val_y),\n",
    "                    # callbacks=[early_stopping],\n",
    "                    class_weight=class_weights\n",
    "                    )"
   ]
  },
  {
   "cell_type": "markdown",
   "metadata": {},
   "source": [
    "Save model"
   ]
  },
  {
   "cell_type": "code",
   "execution_count": 163,
   "metadata": {},
   "outputs": [
    {
     "name": "stderr",
     "output_type": "stream",
     "text": [
      "c:\\Users\\ASUS\\anaconda3\\Lib\\site-packages\\keras\\src\\engine\\training.py:3103: UserWarning: You are saving your model as an HDF5 file via `model.save()`. This file format is considered legacy. We recommend using instead the native Keras format, e.g. `model.save('my_model.keras')`.\n",
      "  saving_api.save_model(\n"
     ]
    }
   ],
   "source": [
    "import pickle\n",
    "with open('../models/tokenizer_cnn_cstd.pkl', 'wb') as tokenizer_file:\n",
    "    pickle.dump(tokenizer, tokenizer_file)\n",
    "\n",
    "model.save('../models/model_cnn_ctsd.h5')"
   ]
  },
  {
   "cell_type": "markdown",
   "metadata": {},
   "source": [
    "Evaluation and Visullize results"
   ]
  },
  {
   "cell_type": "code",
   "execution_count": 161,
   "metadata": {},
   "outputs": [],
   "source": [
    "def evaluation(y_pred, y_test):\n",
    "    # Tính toán các chỉ số đánh giá\n",
    "    accuracy  = accuracy_score(y_test, y_pred)\n",
    "    precision = precision_score(y_test, y_pred, average='macro')\n",
    "    recall = recall_score(y_test, y_pred, average='macro')\n",
    "    f1_micro = f1_score(y_test, y_pred, average='micro')\n",
    "    f1_macro = f1_score(y_test, y_pred, average='macro')\n",
    "\n",
    "    print(f\"Accuracy: {accuracy}\")\n",
    "    print(f\"Precision: {precision}\")\n",
    "    print(f\"Recall: {recall}\")\n",
    "    print(f\"F1-micro: {f1_micro}\")\n",
    "    print(f\"F1-macro: {f1_macro}\")"
   ]
  },
  {
   "cell_type": "code",
   "execution_count": 162,
   "metadata": {},
   "outputs": [
    {
     "name": "stdout",
     "output_type": "stream",
     "text": [
      "[[787 100]\n",
      " [ 97  13]]\n",
      "Accuracy: 0.802407221664995\n",
      "Precision: 0.5026578705001401\n",
      "Recall: 0.5027211232960951\n",
      "F1-micro: 0.802407221664995\n",
      "F1-macro: 0.502677669376831\n",
      "None\n"
     ]
    },
    {
     "data": {
      "image/png": "[encoded data removed]",
      "text/plain": [
       "<Figure size 1000x700 with 2 Axes>"
      ]
     },
     "metadata": {},
     "output_type": "display_data"
    }
   ],
   "source": [
    "predictions = model.predict([ts_x, ts_x], batch_size=batch_size, verbose=0)\n",
    "y_pred = predictions.argmax(axis=-1)\n",
    "y_true = ts_label\n",
    "\n",
    "# Tính toán confusion matrix\n",
    "cf_matrix = confusion_matrix(y_true, y_pred)\n",
    "print(cf_matrix)\n",
    "\n",
    "print(evaluation(y_pred, y_true))\n",
    "\n",
    "# Vẽ confusion matrix\n",
    "df_cm = pd.DataFrame(cf_matrix, index=[\"class 0\", \"class 1\"],\n",
    "                     columns=[\"class 0\", \"class 1\"])\n",
    "plt.figure(figsize=(10, 7))\n",
    "sns.heatmap(df_cm, annot=True, cmap=\"Greys\", fmt='g', cbar=True, annot_kws={\"size\": 20})\n",
    "plt.show()"
   ]
  }
 ],
 "metadata": {
  "kernelspec": {
   "display_name": "base",
   "language": "python",
   "name": "python3"
  },
  "language_info": {
   "codemirror_mode": {
    "name": "ipython",
    "version": 3
   },
   "file_extension": ".py",
   "mimetype": "text/x-python",
   "name": "python",
   "nbconvert_exporter": "python",
   "pygments_lexer": "ipython3",
   "version": "3.11.4"
  }
 },
 "nbformat": 4,
 "nbformat_minor": 2
}
